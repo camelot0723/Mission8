{
 "cells": [
  {
   "cell_type": "code",
   "execution_count": null,
   "metadata": {},
   "outputs": [
    {
     "name": "stdout",
     "output_type": "stream",
     "text": [
      "Requirement already satisfied: flask in c:\\python37\\lib\\site-packages (1.0.2)\n",
      "Requirement already satisfied: Jinja2>=2.10 in c:\\python37\\lib\\site-packages (from flask) (2.10)\n",
      "Requirement already satisfied: click>=5.1 in c:\\python37\\lib\\site-packages (from flask) (7.0)\n",
      "Requirement already satisfied: itsdangerous>=0.24 in c:\\python37\\lib\\site-packages (from flask) (1.1.0)\n",
      "Requirement already satisfied: Werkzeug>=0.14 in c:\\python37\\lib\\site-packages (from flask) (0.14.1)\n",
      "Requirement already satisfied: MarkupSafe>=0.23 in c:\\python37\\lib\\site-packages (from Jinja2>=2.10->flask) (1.1.0)\n"
     ]
    },
    {
     "name": "stderr",
     "output_type": "stream",
     "text": [
      "You are using pip version 10.0.1, however version 18.1 is available.\n",
      "You should consider upgrading via the 'python -m pip install --upgrade pip' command.\n"
     ]
    },
    {
     "name": "stdout",
     "output_type": "stream",
     "text": [
      "Requirement already satisfied: boto3 in c:\\python37\\lib\\site-packages (1.9.80)\n",
      "Requirement already satisfied: jmespath<1.0.0,>=0.7.1 in c:\\python37\\lib\\site-packages (from boto3) (0.9.3)\n",
      "Requirement already satisfied: botocore<1.13.0,>=1.12.80 in c:\\python37\\lib\\site-packages (from boto3) (1.12.80)\n",
      "Requirement already satisfied: s3transfer<0.2.0,>=0.1.10 in c:\\python37\\lib\\site-packages (from boto3) (0.1.13)\n",
      "Requirement already satisfied: python-dateutil<3.0.0,>=2.1; python_version >= \"2.7\" in c:\\python37\\lib\\site-packages (from botocore<1.13.0,>=1.12.80->boto3) (2.7.5)\n",
      "Requirement already satisfied: docutils>=0.10 in c:\\python37\\lib\\site-packages (from botocore<1.13.0,>=1.12.80->boto3) (0.14)\n",
      "Requirement already satisfied: urllib3<1.25,>=1.20; python_version >= \"3.4\" in c:\\python37\\lib\\site-packages (from botocore<1.13.0,>=1.12.80->boto3) (1.24.1)\n",
      "Requirement already satisfied: six>=1.5 in c:\\python37\\lib\\site-packages (from python-dateutil<3.0.0,>=2.1; python_version >= \"2.7\"->botocore<1.13.0,>=1.12.80->boto3) (1.12.0)\n"
     ]
    },
    {
     "name": "stderr",
     "output_type": "stream",
     "text": [
      "You are using pip version 10.0.1, however version 18.1 is available.\n",
      "You should consider upgrading via the 'python -m pip install --upgrade pip' command.\n"
     ]
    },
    {
     "name": "stdout",
     "output_type": "stream",
     "text": [
      "Requirement already satisfied: boto3 in c:\\python37\\lib\\site-packages (1.9.80)\n",
      "Requirement already satisfied: awscli in c:\\python37\\lib\\site-packages (1.16.90)\n",
      "Requirement already satisfied: botocore<1.13.0,>=1.12.80 in c:\\python37\\lib\\site-packages (from boto3) (1.12.80)\n",
      "Requirement already satisfied: jmespath<1.0.0,>=0.7.1 in c:\\python37\\lib\\site-packages (from boto3) (0.9.3)\n",
      "Requirement already satisfied: s3transfer<0.2.0,>=0.1.10 in c:\\python37\\lib\\site-packages (from boto3) (0.1.13)\n",
      "Requirement already satisfied: PyYAML<=3.13,>=3.10 in c:\\python37\\lib\\site-packages (from awscli) (3.13)\n",
      "Requirement already satisfied: colorama<=0.3.9,>=0.2.5 in c:\\python37\\lib\\site-packages (from awscli) (0.3.9)\n",
      "Requirement already satisfied: docutils>=0.10 in c:\\python37\\lib\\site-packages (from awscli) (0.14)\n",
      "Requirement already satisfied: rsa<=3.5.0,>=3.1.2 in c:\\python37\\lib\\site-packages (from awscli) (3.4.2)\n",
      "Requirement already satisfied: python-dateutil<3.0.0,>=2.1; python_version >= \"2.7\" in c:\\python37\\lib\\site-packages (from botocore<1.13.0,>=1.12.80->boto3) (2.7.5)\n",
      "Requirement already satisfied: urllib3<1.25,>=1.20; python_version >= \"3.4\" in c:\\python37\\lib\\site-packages (from botocore<1.13.0,>=1.12.80->boto3) (1.24.1)\n",
      "Requirement already satisfied: pyasn1>=0.1.3 in c:\\python37\\lib\\site-packages (from rsa<=3.5.0,>=3.1.2->awscli) (0.4.5)\n",
      "Requirement already satisfied: six>=1.5 in c:\\python37\\lib\\site-packages (from python-dateutil<3.0.0,>=2.1; python_version >= \"2.7\"->botocore<1.13.0,>=1.12.80->boto3) (1.12.0)\n",
      " * Serving Flask app \"__main__\" (lazy loading)\n",
      " * Environment: production\n",
      "   WARNING: Do not use the development server in a production environment.\n",
      "   Use a production WSGI server instead.\n",
      " * Debug mode: off\n"
     ]
    },
    {
     "name": "stderr",
     "output_type": "stream",
     "text": [
      "You are using pip version 10.0.1, however version 18.1 is available.\n",
      "You should consider upgrading via the 'python -m pip install --upgrade pip' command.\n",
      " * Running on http://0.0.0.0:5000/ (Press CTRL+C to quit)\n"
     ]
    },
    {
     "name": "stdout",
     "output_type": "stream",
     "text": [
      "=================================================\\mission8.txt存檔完成~~\n",
      "\n"
     ]
    },
    {
     "name": "stderr",
     "output_type": "stream",
     "text": [
      "10.120.23.218 - - [17/Jan/2019 11:29:11] \"POST / HTTP/1.1\" 200 -\n"
     ]
    },
    {
     "name": "stdout",
     "output_type": "stream",
     "text": [
      "{'ETag': '\"07c0574796df3991354ff6d8f3c965ba\"',\n",
      " 'ResponseMetadata': {'HTTPHeaders': {'content-length': '0',\n",
      "                                      'date': 'Thu, 17 Jan 2019 03:29:10 GMT',\n",
      "                                      'etag': '\"07c0574796df3991354ff6d8f3c965ba\"',\n",
      "                                      'server': 'AmazonS3',\n",
      "                                      'x-amz-id-2': 'FqDJQUYkHxU/xntrXB6QdlX2GqXNXN7BtOJdv+3OMsEqCvAHRqcTIoNY9QIuMYNmCKwpZV6qOsQ=',\n",
      "                                      'x-amz-request-id': '6A2519B4AF586A92'},\n",
      "                      'HTTPStatusCode': 200,\n",
      "                      'HostId': 'FqDJQUYkHxU/xntrXB6QdlX2GqXNXN7BtOJdv+3OMsEqCvAHRqcTIoNY9QIuMYNmCKwpZV6qOsQ=',\n",
      "                      'RequestId': '6A2519B4AF586A92',\n",
      "                      'RetryAttempts': 0}}\n",
      "=============上傳成功================\n"
     ]
    }
   ],
   "source": [
    "#安裝套件\n",
    "!pip install flask\n",
    "!pip install boto3\n",
    "!pip install boto3 awscli\n",
    "\n",
    "\n",
    "#引用套件\n",
    "import boto3\n",
    "from pprint import pprint\n",
    "from flask import Flask, request, abort, jsonify\n",
    "\n",
    "#flask這個應用的啟動點\n",
    "app = Flask(__name__,static_url_path = \"/images\" , static_folder = \"./images/\" )\n",
    "\n",
    "#為這個啟動點增加訪問路徑/，並定義方法為post\n",
    "@app.route('/',methods=['POST'])\n",
    "\n",
    "#------------------------------------------------\n",
    "\n",
    "#用戶能對此端口用POST訪問，挾帶任意json body\n",
    "def hello_world():\n",
    "    #將用戶傳過來的request轉成json\n",
    "    t=request.get_json()\n",
    "    #取得用戶json的nickname並組成{'nickname':xxxx}\n",
    "    jsonDict = {'Gwen':t.get('Gwen','Keep moving forward!')}\n",
    "\n",
    "    #-------------------------------------------------------\n",
    "    #將此body轉存成檔案，存在伺服器上 (開啟一個檔案，寫入，關閉)\n",
    "    openfile = open ('./mission8.txt','w')\n",
    "    openfile.write(str(jsonDict)+\"\\n\\n\")\n",
    "    openfile.close()\n",
    "    print('=================================================\\mission8.txt存檔完成~~\\n')\n",
    "    \n",
    "    #-------------------------------------------------------\n",
    "    #將此檔案上傳至iii-tutorial-v2桶內的student{座號}資料夾下(上傳s3)\n",
    "    #啟用s3客戶端\n",
    "    s3resource = boto3.resource('s3')\n",
    "    \n",
    "    uploadObject=s3resource.Object('iii-tutorial-v2', 'student08/mission8.txt').put(Body=open('./mission8.txt', 'rb'))\n",
    "    pprint(uploadObject)\n",
    "    #瀏覽s3的butket(iii-tutorial-v2下的student08裡內的物件)\n",
    "    print(\"=============上傳成功================\")\n",
    "    return \"update ok!!!!!!!!\"\n",
    "if __name__ == \"__main__\":\n",
    "    app.run(host='0.0.0.0')\n",
    "    "
   ]
  },
  {
   "cell_type": "code",
   "execution_count": null,
   "metadata": {},
   "outputs": [],
   "source": []
  }
 ],
 "metadata": {
  "kernelspec": {
   "display_name": "Python 3",
   "language": "python",
   "name": "python3"
  },
  "language_info": {
   "codemirror_mode": {
    "name": "ipython",
    "version": 3
   },
   "file_extension": ".py",
   "mimetype": "text/x-python",
   "name": "python",
   "nbconvert_exporter": "python",
   "pygments_lexer": "ipython3",
   "version": "3.7.1"
  }
 },
 "nbformat": 4,
 "nbformat_minor": 2
}
